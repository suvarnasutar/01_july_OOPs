{
 "cells": [
  {
   "cell_type": "code",
   "execution_count": null,
   "id": "4d1d91f0",
   "metadata": {},
   "outputs": [],
   "source": [
    "Que. 1. What is the primary goal of Object-Oriented Programming (OOP)?\n",
    "\n",
    "The primary goals of Object Oriented Programming are Robustness, Adaptability, and Reusability.\n",
    "1. Robustness : it means complex programs should operate correctly\n",
    "2. Adaptability : means the software may run on different generations and grows over a long lifetime\n",
    "3. Reusability : means to reuse the code in which child classes uses the properties of parent class    \n",
    "               "
   ]
  },
  {
   "cell_type": "code",
   "execution_count": null,
   "id": "d85a7fba",
   "metadata": {},
   "outputs": [],
   "source": [
    "Que. 2. What is an object in Python?\n",
    "\n",
    "An object in Python is an instance of Class.It is a collection of variables and methods.It is a blueprint of the class, having actual values  \n",
    "\n",
    "Example:    "
   ]
  },
  {
   "cell_type": "code",
   "execution_count": 2,
   "id": "b8c1abbb",
   "metadata": {},
   "outputs": [],
   "source": [
    "# create class\n",
    "class person:           \n",
    "    first_name=\"suvarna\"\n",
    "    last_name=\"sutar\"\n",
    "# create object of class person. here 'obj' is object\n",
    "obj=person()"
   ]
  },
  {
   "cell_type": "code",
   "execution_count": null,
   "id": "cbd99318",
   "metadata": {},
   "outputs": [],
   "source": [
    "Que. 3. What is a class in Python?\n",
    "\n",
    "class is a blueprint of objects.classess provides a means of collecting data and functions together.\n",
    "\n",
    "Python class:\n",
    "    Classes are created by keyword class.\n",
    "    Attributes defined in class are the variables that belong to a class.\n",
    "   \n",
    "# creating a class\n",
    "class Animal:\n",
    "    def __init__(self,name,sound):"
   ]
  },
  {
   "cell_type": "code",
   "execution_count": null,
   "id": "7e1a7bbc",
   "metadata": {},
   "outputs": [],
   "source": [
    "Que. 4. What are attributes and methods in a class?\n",
    "\n",
    "Attributes are the variables defined in a class.whereas methods are functions defined within a class\n",
    "\n",
    "Example:"
   ]
  },
  {
   "cell_type": "code",
   "execution_count": 14,
   "id": "004bd799",
   "metadata": {},
   "outputs": [],
   "source": [
    "class city:\n",
    "    def __init__(self,name):  ### here name is class attribute\n",
    "        self.name=name\n",
    "    def display(self):        ### display is class method\n",
    "        print(\"My city is : \" +self.name)"
   ]
  },
  {
   "cell_type": "code",
   "execution_count": 15,
   "id": "56aa7752",
   "metadata": {},
   "outputs": [
    {
     "name": "stdout",
     "output_type": "stream",
     "text": [
      "My city is : Ichalkaranji\n"
     ]
    }
   ],
   "source": [
    "obj1=city(\"Ichalkaranji\") \n",
    "obj1.display()\n"
   ]
  },
  {
   "cell_type": "code",
   "execution_count": null,
   "id": "5a499185",
   "metadata": {},
   "outputs": [],
   "source": [
    "Que. 5. What is the difference between class variables and instance variables in Python?\n",
    "Answer:\n",
    "   1. class variables are defined within the class but outside of any class methods.\n",
    "      whereas instance variables are defined within class methods,typically the constructor.\n",
    "    \n",
    "   2. changes made to the class variable affect all instances\n",
    "      changes made to the instance variable does not affect all instances.\n",
    "    \n",
    "   3. Class variables can be initialized either inside the class definition or outside the class definition.\n",
    "      Instance variables are typically initialized in the constructor of the class.\n",
    "    \n",
    "   4. Class variables are accessed using the class name, followed by the variable name. \n",
    "      Instance variables are accessed using the instance name, followed by the variable name.\n",
    "    \n",
    "   5. Class variables are useful for storing data that is shared among all instances of a class, such as constants or\n",
    "      default values.\n",
    "      Instance variables are used to store data that is unique to each instance of a class, such as object properties."
   ]
  },
  {
   "cell_type": "code",
   "execution_count": null,
   "id": "aba50cc0",
   "metadata": {},
   "outputs": [],
   "source": [
    "Que. 6. What is the purpose of the self parameter in Python class methods?\n",
    "Answer:\n",
    "       The self parameter is a reference to the current instance of the class , and is used to access variables that belongs to\n",
    "       the class \n",
    "    "
   ]
  },
  {
   "cell_type": "code",
   "execution_count": null,
   "id": "98a81af3",
   "metadata": {},
   "outputs": [],
   "source": []
  },
  {
   "cell_type": "code",
   "execution_count": null,
   "id": "2bb5d77e",
   "metadata": {},
   "outputs": [],
   "source": [
    "Que. 7. For a library management system, you have to design the \"Book\" class with OOP\n",
    "principles in mind. The “Book” class will have following attributes:\n",
    "a. title: Represents the title of the book.\n",
    "b. author: Represents the author(s) of the book.\n",
    "c. isbn: Represents the ISBN (International Standard Book Number) of the book.\n",
    "d. publication_year: Represents the year of publication of the book.\n",
    "e. available_copies: Represents the number of copies available for checkout.\n",
    "The class will also include the following methods:\n",
    "a. check_out(self): Decrements the available copies by one if there are copies\n",
    "available for checkout.\n",
    "b. return_book(self): Increments the available copies by one when a book is\n",
    "returned.\n",
    "c. display_book_info(self): Displays the information about the book, including its\n",
    "attributes and the number of available copies."
   ]
  },
  {
   "cell_type": "code",
   "execution_count": null,
   "id": "00f205fe",
   "metadata": {},
   "outputs": [],
   "source": [
    "Answer:"
   ]
  },
  {
   "cell_type": "code",
   "execution_count": 1,
   "id": "2a6954bb",
   "metadata": {},
   "outputs": [],
   "source": [
    "class Book:\n",
    "    def __init__(self,title,auther,isbn,publication_year,available_copies):\n",
    "        self.title=title \n",
    "        self.auther= auther\n",
    "        self.isbn= isbn\n",
    "        self.publication_year= publication_year\n",
    "        self.available_copies=available_copies\n",
    "        \n",
    "    def check_out(self,quantity):\n",
    "        self.quantity=quantity\n",
    "        if self.available_copies >= self.quantity:\n",
    "             self.available_copies =  self.available_copies - self.quantity\n",
    "        \n",
    "        \n",
    "    def return_book(self,returns):\n",
    "        self.returns=returns\n",
    "        self.available_copies =  self.available_copies + self.returns\n",
    "        \n",
    "    def display_book_info(self): \n",
    "        print(f\"The book {self.title}, written by {self.auther} ,having isbn number as {self.isbn}, publication year of the book is {self.publication_year}, and available copies of that book are {self.available_copies}\")"
   ]
  },
  {
   "cell_type": "code",
   "execution_count": 2,
   "id": "eae2998f",
   "metadata": {},
   "outputs": [],
   "source": [
    "book1=Book(\"Data science\",\"Andrew Park\",1234,2015,900)"
   ]
  },
  {
   "cell_type": "code",
   "execution_count": 3,
   "id": "ca0979ef",
   "metadata": {},
   "outputs": [
    {
     "name": "stdout",
     "output_type": "stream",
     "text": [
      "The book Data science, written by Andrew Park ,having isbn number as 1234, publication year of the book is 2015, and available copies of that book are 900\n"
     ]
    }
   ],
   "source": [
    "book1.display_book_info()"
   ]
  },
  {
   "cell_type": "code",
   "execution_count": 4,
   "id": "9d67f82f",
   "metadata": {},
   "outputs": [],
   "source": [
    "book1.check_out(50)"
   ]
  },
  {
   "cell_type": "code",
   "execution_count": 5,
   "id": "6e5d9d10",
   "metadata": {},
   "outputs": [
    {
     "name": "stdout",
     "output_type": "stream",
     "text": [
      "The book Data science, written by Andrew Park ,having isbn number as 1234, publication year of the book is 2015, and available copies of that book are 850\n"
     ]
    }
   ],
   "source": [
    "book1.display_book_info()"
   ]
  },
  {
   "cell_type": "code",
   "execution_count": 6,
   "id": "e6489d62",
   "metadata": {},
   "outputs": [],
   "source": [
    "book1.return_book(25)"
   ]
  },
  {
   "cell_type": "code",
   "execution_count": 7,
   "id": "ca960860",
   "metadata": {},
   "outputs": [
    {
     "name": "stdout",
     "output_type": "stream",
     "text": [
      "The book Data science, written by Andrew Park ,having isbn number as 1234, publication year of the book is 2015, and available copies of that book are 875\n"
     ]
    }
   ],
   "source": [
    "book1.display_book_info()"
   ]
  },
  {
   "cell_type": "code",
   "execution_count": null,
   "id": "24dd4523",
   "metadata": {},
   "outputs": [],
   "source": []
  },
  {
   "cell_type": "code",
   "execution_count": null,
   "id": "6e8b1cb2",
   "metadata": {},
   "outputs": [],
   "source": [
    "Que. 8. For a ticket booking system, you have to design the \"Ticket\" class with OOP\n",
    "principles in mind. The “Ticket” class should have the following attributes:\n",
    "a. ticket_id: Represents the unique identifier for the ticket.\n",
    "b. event_name: Represents the name of the event.\n",
    "c. event_date: Represents the date of the event.\n",
    "d. venue: Represents the venue of the event.\n",
    "e. seat_number: Represents the seat number associated with the ticket.\n",
    "f. price: Represents the price of the ticket.\n",
    "g. is_reserved: Represents the reservation status of the ticket.\n",
    "The class also includes the following methods:\n",
    "a. reserve_ticket(self): Marks the ticket as reserved if it is not already reserved.\n",
    "b. cancel_reservation(self): Cancels the reservation of the ticket if it is already\n",
    "reserved.\n",
    "c. display_ticket_info(self): Displays the information about the ticket, including its\n",
    "attributes and reservation status."
   ]
  },
  {
   "cell_type": "code",
   "execution_count": null,
   "id": "d1770357",
   "metadata": {},
   "outputs": [],
   "source": [
    "Answer:"
   ]
  },
  {
   "cell_type": "code",
   "execution_count": 17,
   "id": "a56199ff",
   "metadata": {},
   "outputs": [],
   "source": [
    "class Ticket:\n",
    "    def __init__(self , ticket_id , event_name , event_date , venue , seat_number , price , is_reserved):\n",
    "    \n",
    "    \n",
    "        self.ticket_id = ticket_id\n",
    "        self.event_name = event_name\n",
    "        self.event_date = event_date \n",
    "        self.venue = venue \n",
    "        self.seat_number = seat_number\n",
    "        self.price = price\n",
    "        self.is_reserved = is_reserved\n",
    "        \n",
    "    def reserve_ticket(self):\n",
    "       \n",
    "        if self.ticket_id != self.is_reserved :\n",
    "            self.is_reserved=\"Yes\"\n",
    "            print(\"___Reserve the ticket____ \")\n",
    "            \n",
    "    def  cancel_reservation(self):       \n",
    "         if  self.is_reserved == \"Yes\" :\n",
    "            self.is_reserved=\"No\"  \n",
    "            print(\"____cancel the reserved ticket_____ \")\n",
    "                \n",
    "    def display_ticket_info(self):\n",
    "        print(f\"Ticket_id : {self.ticket_id} , event_name : {self.event_name} , event_date : {self.event_date} , venue : {self.venue} , seat_number : {self.seat_number} , price : {self.price} , is_reserved : {self.is_reserved}\")        "
   ]
  },
  {
   "cell_type": "code",
   "execution_count": 18,
   "id": "6952aef0",
   "metadata": {},
   "outputs": [],
   "source": [
    "ticket1=Ticket(\"FN1234\",\"department meeting\" ,\"15 oct 2023\",\"Gujrat\",\"456\",400000,\"No\")"
   ]
  },
  {
   "cell_type": "code",
   "execution_count": 19,
   "id": "489e527f",
   "metadata": {},
   "outputs": [
    {
     "name": "stdout",
     "output_type": "stream",
     "text": [
      "Ticket_id : FN1234 , event_name : department meeting , event_date : 15 oct 2023 , venue : Gujrat , seat_number : 456 , price : 400000 , is_reserved : No\n"
     ]
    }
   ],
   "source": [
    "ticket1.display_ticket_info()"
   ]
  },
  {
   "cell_type": "code",
   "execution_count": 25,
   "id": "15ae2ee6",
   "metadata": {},
   "outputs": [
    {
     "name": "stdout",
     "output_type": "stream",
     "text": [
      "___Reserve the ticket____ \n"
     ]
    }
   ],
   "source": [
    "ticket1.reserve_ticket()"
   ]
  },
  {
   "cell_type": "code",
   "execution_count": 13,
   "id": "f2bb7535",
   "metadata": {},
   "outputs": [],
   "source": [
    "#ticket1=Ticket(\"FN1234\",\"department meeting\" ,\"15 oct 2023\",\"Gujrat\",\"456\",400000,\"Yes\")"
   ]
  },
  {
   "cell_type": "code",
   "execution_count": 26,
   "id": "2436d8bc",
   "metadata": {},
   "outputs": [
    {
     "name": "stdout",
     "output_type": "stream",
     "text": [
      "Ticket_id : FN1234 , event_name : department meeting , event_date : 15 oct 2023 , venue : Gujrat , seat_number : 456 , price : 400000 , is_reserved : Yes\n"
     ]
    }
   ],
   "source": [
    "ticket1.display_ticket_info()"
   ]
  },
  {
   "cell_type": "code",
   "execution_count": 27,
   "id": "0ca0f21c",
   "metadata": {},
   "outputs": [
    {
     "name": "stdout",
     "output_type": "stream",
     "text": [
      "____cancel the reserved ticket_____ \n"
     ]
    }
   ],
   "source": [
    "ticket1.cancel_reservation()"
   ]
  },
  {
   "cell_type": "code",
   "execution_count": 28,
   "id": "faed9e51",
   "metadata": {},
   "outputs": [
    {
     "name": "stdout",
     "output_type": "stream",
     "text": [
      "Ticket_id : FN1234 , event_name : department meeting , event_date : 15 oct 2023 , venue : Gujrat , seat_number : 456 , price : 400000 , is_reserved : No\n"
     ]
    }
   ],
   "source": [
    "ticket1.display_ticket_info()"
   ]
  },
  {
   "cell_type": "code",
   "execution_count": null,
   "id": "090678c3",
   "metadata": {},
   "outputs": [],
   "source": []
  },
  {
   "cell_type": "code",
   "execution_count": null,
   "id": "07b4ae40",
   "metadata": {},
   "outputs": [],
   "source": [
    "Que. 9. You are creating a shopping cart for an e-commerce website. Using OOP to model\n",
    "the \"ShoppingCart\" functionality the class should contain following attributes and\n",
    "methods:\n",
    "a. items: Represents the list of items in the shopping cart.\n",
    "The class also includes the following methods:\n",
    "\n",
    "a. add_item(self, item): Adds an item to the shopping cart by appending it to the\n",
    "list of items.\n",
    "b. remove_item(self, item): Removes an item from the shopping cart if it exists in\n",
    "the list.\n",
    "c. view_cart(self): Displays the items currently present in the shopping cart.\n",
    "d. clear_cart(self): Clears all items from the shopping cart by reassigning an\n",
    "empty list to the items attribute."
   ]
  },
  {
   "cell_type": "code",
   "execution_count": 48,
   "id": "4758c864",
   "metadata": {},
   "outputs": [],
   "source": [
    "class ShoppingCart:\n",
    "       \n",
    "    def __init__(self):\n",
    "        self.items=['clothes','Books','shoes','grocery']\n",
    "        \n",
    "    def add_item(self,item):\n",
    "        return self.items.append(item)\n",
    "       \n",
    "        print(f\"item list is : 1.{self.items}\")   \n",
    "       \n",
    "    def remove_item(self, item1): \n",
    "        self.item1=item1\n",
    "        self.items.remove(item1)\n",
    "        print(f\"item list is : {self.items}\")\n",
    "        \n",
    "    def view_cart(self):\n",
    "        print(f\"Items in cart are : {self.items}\")\n",
    "        \n",
    "    def clear_cart(self):\n",
    "      return self.items.clear()\n",
    "        "
   ]
  },
  {
   "cell_type": "code",
   "execution_count": 49,
   "id": "30f6bd2c",
   "metadata": {},
   "outputs": [],
   "source": [
    "cart1=ShoppingCart()"
   ]
  },
  {
   "cell_type": "code",
   "execution_count": 50,
   "id": "84681a98",
   "metadata": {},
   "outputs": [
    {
     "name": "stdout",
     "output_type": "stream",
     "text": [
      "Items in cart are : ['clothes', 'Books', 'shoes', 'grocery']\n"
     ]
    }
   ],
   "source": [
    "cart1.view_cart()"
   ]
  },
  {
   "cell_type": "code",
   "execution_count": 51,
   "id": "ccfa61ff",
   "metadata": {},
   "outputs": [],
   "source": [
    "cart1.add_item('mobile')\n"
   ]
  },
  {
   "cell_type": "code",
   "execution_count": 52,
   "id": "bddfa489",
   "metadata": {},
   "outputs": [
    {
     "name": "stdout",
     "output_type": "stream",
     "text": [
      "Items in cart are : ['clothes', 'Books', 'shoes', 'grocery', 'mobile']\n"
     ]
    }
   ],
   "source": [
    "cart1.view_cart()"
   ]
  },
  {
   "cell_type": "code",
   "execution_count": 53,
   "id": "d3f126a8",
   "metadata": {},
   "outputs": [
    {
     "name": "stdout",
     "output_type": "stream",
     "text": [
      "item list is : ['clothes', 'Books', 'grocery', 'mobile']\n"
     ]
    }
   ],
   "source": [
    "cart1.remove_item('shoes')"
   ]
  },
  {
   "cell_type": "code",
   "execution_count": 55,
   "id": "30319644",
   "metadata": {},
   "outputs": [],
   "source": [
    "cart1.clear_cart()"
   ]
  },
  {
   "cell_type": "code",
   "execution_count": 56,
   "id": "3b74700f",
   "metadata": {},
   "outputs": [
    {
     "name": "stdout",
     "output_type": "stream",
     "text": [
      "Items in cart are : []\n"
     ]
    }
   ],
   "source": [
    "cart1.view_cart()"
   ]
  },
  {
   "cell_type": "code",
   "execution_count": null,
   "id": "8900234b",
   "metadata": {},
   "outputs": [],
   "source": []
  },
  {
   "cell_type": "code",
   "execution_count": null,
   "id": "233f12f5",
   "metadata": {},
   "outputs": [],
   "source": [
    "Que. 10. Imagine a school management system. You have to design the \"Student\" class using\n",
    "OOP concepts.The “Student” class has the following attributes:\n",
    "a. name: Represents the name of the student.\n",
    "b. age: Represents the age of the student.\n",
    "c. grade: Represents the grade or class of the student.\n",
    "d. student_id: Represents the unique identifier for the student.\n",
    "e. attendance: Represents the attendance record of the student.\n",
    "The class should also include the following methods:\n",
    "a. update_attendance(self, date, status): Updates the attendance record of the\n",
    "student for a given date with the provided status (e.g., present or absent).\n",
    "b. get_attendance(self): Returns the attendance record of the student.\n",
    "c. get_average_attendance(self): Calculates and returns the average\n",
    "attendance percentage of the student based on their attendance record."
   ]
  },
  {
   "cell_type": "code",
   "execution_count": null,
   "id": "7a5f2d3a",
   "metadata": {},
   "outputs": [],
   "source": [
    "Answer:"
   ]
  },
  {
   "cell_type": "code",
   "execution_count": 8,
   "id": "cbdcf1f4",
   "metadata": {},
   "outputs": [],
   "source": [
    "class Student:\n",
    "    studentCount=0\n",
    "    attendanceAverage=0\n",
    "    \n",
    "    def __init__(self,name,age,grade,student_id,attendance):\n",
    "        self.name=name\n",
    "        self.age=age\n",
    "        self.grade=grade\n",
    "        self.student_id=student_id\n",
    "        #self.attendance = ['day1' ,'day2' ,'day3' ,'day4' ,'day5']\n",
    "        self.attendance=attendance\n",
    "        \n",
    "        Student.studentCount+= 1\n",
    "        Student.attendanceAverage = attendance / Student.studentCount\n",
    "        \n",
    "    def update_attendance(self, date, status):\n",
    "        super().__init__()\n",
    "        self.date=date\n",
    "        self.status=status\n",
    "       # print(f\"Enter date : {self.date}\")\n",
    "        while self.date ==1-7-2023:\n",
    "                if self.status == 'present':\n",
    "                    print(f\"status : {self.status}\")\n",
    "                    \n",
    "    def get_attendance(self):\n",
    "        \n",
    "        return self.attendance\n",
    "    \n",
    "    def get_average_attendance(self):\n",
    "        print(\"Average Attendance:\",Student.attendanceAverage)\n",
    "        "
   ]
  },
  {
   "cell_type": "code",
   "execution_count": 21,
   "id": "c934931e",
   "metadata": {},
   "outputs": [],
   "source": [
    "student1=Student(\"Suvarna\" , \"30\" , \"A+\" , \"DKTE_23\" , 20)\n",
    "student2=Student(\"Saanvi\" , \"28\" , \"A+\" , \"DKTE_25\" , 25)\n",
    "student3=Student(\"Vinayak\" , \"29\" , \"A+\" , \"DKTE_15\" , 18)\n",
    "student4=Student(\"Dipak\" , \"30\" , \"A+\" , \"DKTE_31\" , 27)"
   ]
  },
  {
   "cell_type": "code",
   "execution_count": 22,
   "id": "0fbeefb7",
   "metadata": {},
   "outputs": [
    {
     "data": {
      "text/plain": [
       "20"
      ]
     },
     "execution_count": 22,
     "metadata": {},
     "output_type": "execute_result"
    }
   ],
   "source": [
    "student1.get_attendance()"
   ]
  },
  {
   "cell_type": "code",
   "execution_count": 23,
   "id": "babbfa48",
   "metadata": {},
   "outputs": [],
   "source": [
    "student1.update_attendance('1-7-2023' , 'present')"
   ]
  },
  {
   "cell_type": "code",
   "execution_count": 24,
   "id": "9d499a61",
   "metadata": {},
   "outputs": [
    {
     "data": {
      "text/plain": [
       "20"
      ]
     },
     "execution_count": 24,
     "metadata": {},
     "output_type": "execute_result"
    }
   ],
   "source": [
    "student1.get_attendance()"
   ]
  },
  {
   "cell_type": "code",
   "execution_count": 25,
   "id": "2e04736b",
   "metadata": {},
   "outputs": [
    {
     "name": "stdout",
     "output_type": "stream",
     "text": [
      "Average Attendance: 2.7\n"
     ]
    }
   ],
   "source": [
    "student1.get_average_attendance()"
   ]
  },
  {
   "cell_type": "code",
   "execution_count": null,
   "id": "38669fe5",
   "metadata": {},
   "outputs": [],
   "source": []
  }
 ],
 "metadata": {
  "kernelspec": {
   "display_name": "Python 3 (ipykernel)",
   "language": "python",
   "name": "python3"
  },
  "language_info": {
   "codemirror_mode": {
    "name": "ipython",
    "version": 3
   },
   "file_extension": ".py",
   "mimetype": "text/x-python",
   "name": "python",
   "nbconvert_exporter": "python",
   "pygments_lexer": "ipython3",
   "version": "3.11.3"
  }
 },
 "nbformat": 4,
 "nbformat_minor": 5
}
